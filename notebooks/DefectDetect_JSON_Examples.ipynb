{
 "cells": [
  {
   "cell_type": "markdown",
   "id": "dbf7ecf2",
   "metadata": {},
   "source": [
    "# 📄 JSON Example Usage with DefectDetect\n",
    "This notebook demonstrates how to load and process JSON export files from the DefectDetect application.\n",
    "You can use it in Google Colab or locally with Jupyter Notebook."
   ]
  },
  {
   "cell_type": "markdown",
   "id": "af8e4918",
   "metadata": {},
   "source": [
    "## 🔹 Example 1: Load all patches from `org_patches` section"
   ]
  },
  {
   "cell_type": "code",
   "execution_count": null,
   "id": "d98ec4e4",
   "metadata": {},
   "outputs": [],
   "source": [
    "import json\n",
    "import cv2\n",
    "import os\n",
    "from google.colab.patches import cv2_imshow  # or use cv2.imshow locally\n",
    "\n",
    "# Load JSON file\n",
    "with open('/content/drive/My Drive/Json test/output.json') as f:\n",
    "    data = json.load(f)\n",
    "\n",
    "# Extract 'org_patches' section\n",
    "org_patches = data['org_patches']\n",
    "\n",
    "# Iterate through patches and display images\n",
    "for patch in org_patches:\n",
    "    patch_file_name = patch['file_name']\n",
    "    patch_id = patch['id']\n",
    "\n",
    "    # Define patch path\n",
    "    patch_path = os.path.join('/content/drive/My Drive/Json test/Patchevi_Slika1-1_Original',\n",
    "                              patch_file_name + '.bmp')\n",
    "\n",
    "    if os.path.exists(patch_path):\n",
    "        patch_img = cv2.imread(patch_path)\n",
    "        if patch_img is not None:\n",
    "            print(f\"Patch {patch_id}\")\n",
    "            cv2_imshow(patch_img)\n",
    "        else:\n",
    "            print(f\"Patch {patch_file_name} could not be loaded.\")\n",
    "    else:\n",
    "        print(f\"Patch {patch_file_name} was not found.\")\n",
    "cv2.destroyAllWindows()"
   ]
  },
  {
   "cell_type": "markdown",
   "id": "2330c9e3",
   "metadata": {},
   "source": [
    "## 🔹 Example 2: Display only patches with a specific defect"
   ]
  },
  {
   "cell_type": "code",
   "execution_count": null,
   "id": "bfbd5bd9",
   "metadata": {},
   "outputs": [],
   "source": [
    "annotations = data['annotation']\n",
    "org_patches = data['org_patches']\n",
    "\n",
    "for annotation in annotations:\n",
    "    patch_id = annotation['patch_id']\n",
    "    ratings = annotation['class_ratings_ids']  # Ratings for this patch\n",
    "\n",
    "    # Example: Show only patches with Defect 4 (index 4) present\n",
    "    if ratings[4] != 0:\n",
    "        for patch in org_patches:\n",
    "            if patch_id == patch['id']:\n",
    "                patch_file_name = patch['file_name']\n",
    "                break\n",
    "\n",
    "        patch_path = os.path.join('/content/drive/My Drive/Json test/Patchevi_Slika1-1_Original',\n",
    "                                  patch_file_name + '.bmp')\n",
    "\n",
    "        if os.path.exists(patch_path):\n",
    "            patch_img = cv2.imread(patch_path)\n",
    "            if patch_img is not None:\n",
    "                print(f\"Patch {patch_id} (Defect 4 present)\")\n",
    "                cv2_imshow(patch_img)\n",
    "            else:\n",
    "                print(f\"Patch {patch_file_name} could not be loaded.\")\n",
    "        else:\n",
    "            print(f\"Patch {patch_file_name} was not found.\")"
   ]
  }
 ],
 "metadata": {},
 "nbformat": 4,
 "nbformat_minor": 5
}
